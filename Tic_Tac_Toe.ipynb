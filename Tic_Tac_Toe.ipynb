{
  "nbformat": 4,
  "nbformat_minor": 0,
  "metadata": {
    "colab": {
      "provenance": []
    },
    "kernelspec": {
      "name": "python3",
      "display_name": "Python 3"
    },
    "language_info": {
      "name": "python"
    }
  },
  "cells": [
    {
      "cell_type": "markdown",
      "source": [
        "## **Import NumPy Library**"
      ],
      "metadata": {
        "id": "IJxjsyXGAW4k"
      }
    },
    {
      "cell_type": "code",
      "execution_count": 1,
      "metadata": {
        "id": "F53U_SOg_2PZ"
      },
      "outputs": [],
      "source": [
        "import numpy as np"
      ]
    },
    {
      "cell_type": "markdown",
      "source": [
        "## **Initialize Board Setup and Knowledge Base**"
      ],
      "metadata": {
        "id": "cAcoXTcsAkbx"
      }
    },
    {
      "cell_type": "code",
      "source": [
        "# Board setup (initially it is empty)\n",
        "board = np.array([[\"P1\", \"P2\", \"P3\"],\n",
        "                  [\"P4\", \"P5\", \"P6\"],\n",
        "                  [\"P7\", \"P8\", \"P9\"]])\n",
        "\n",
        "# Knowledge base (KB) storing facts about occupied positions\n",
        "knowledge_base = []"
      ],
      "metadata": {
        "id": "qDJeghwX_9zG"
      },
      "execution_count": 2,
      "outputs": []
    },
    {
      "cell_type": "markdown",
      "source": [
        "## **Print Current Board State**"
      ],
      "metadata": {
        "id": "VTYcgoK8An3p"
      }
    },
    {
      "cell_type": "code",
      "source": [
        "def print_board():\n",
        "    for row in board:\n",
        "        print(\"|\".join(row))\n",
        "    print()"
      ],
      "metadata": {
        "id": "HJINR-RoAGdw"
      },
      "execution_count": 3,
      "outputs": []
    },
    {
      "cell_type": "markdown",
      "source": [
        "## **Defining Knowledge Base Function**"
      ],
      "metadata": {
        "id": "tunvXPhIAuHq"
      }
    },
    {
      "cell_type": "code",
      "source": [
        "def kb(fact):\n",
        "    if fact not in knowledge_base:\n",
        "        knowledge_base.append(fact)"
      ],
      "metadata": {
        "id": "0TLwwQzrAIld"
      },
      "execution_count": 4,
      "outputs": []
    },
    {
      "cell_type": "markdown",
      "source": [
        "## **Function to check all the winning combinations**"
      ],
      "metadata": {
        "id": "n_69IQLcAyvs"
      }
    },
    {
      "cell_type": "code",
      "source": [
        "def WinningMove(mark):\n",
        "    # Using the indices to identify winner from any of the players\n",
        "    win_combinations = [\n",
        "        # ROWS\n",
        "        [board[0, 0], board[0, 1], board[0, 2]],  # 1st row\n",
        "        [board[1, 0], board[1, 1], board[1, 2]],  # 2nd row\n",
        "        [board[2, 0], board[2, 1], board[2, 2]],  # 3rd row\n",
        "\n",
        "        # COLUMNS\n",
        "        [board[0, 0], board[1, 0], board[2, 0]],  # 1st column\n",
        "        [board[0, 1], board[1, 1], board[2, 1]],  # 2nd column\n",
        "        [board[0, 2], board[1, 2], board[2, 2]],  # 3rd column\n",
        "\n",
        "        # DIAGONALS\n",
        "        [board[0, 0], board[1, 1], board[2, 2]],\n",
        "        [board[0, 2], board[1, 1], board[2, 0]],\n",
        "    ]\n",
        "\n",
        "    for combo in win_combinations:\n",
        "        if all(pos == mark for pos in combo):  # Check if all positions in the combo have the same mark\n",
        "            return True\n",
        "    return False"
      ],
      "metadata": {
        "id": "oirVSo6bAKmi"
      },
      "execution_count": 5,
      "outputs": []
    },
    {
      "cell_type": "markdown",
      "source": [
        "## **Check if the board is full**"
      ],
      "metadata": {
        "id": "3izZURkAA9xy"
      }
    },
    {
      "cell_type": "code",
      "source": [
        "def is_board_full():\n",
        "    return all(pos == 'O' or pos == 'X' for pos in board.flatten())  # Checks if all pos is either 'O' or 'X'"
      ],
      "metadata": {
        "id": "W1Rqa2NKAM8_"
      },
      "execution_count": 6,
      "outputs": []
    },
    {
      "cell_type": "markdown",
      "source": [
        "## **Game execution starts with alternative turns**\n",
        "Prints the updated knowledge base after each turns"
      ],
      "metadata": {
        "id": "Gu5CtSoPBC_Q"
      }
    },
    {
      "cell_type": "code",
      "source": [
        "turn = \"Player1\"\n",
        "while True:\n",
        "    print_board()\n",
        "    if turn == \"Player1\":\n",
        "        mark = 'O'\n",
        "        position = input(\"Player1, enter your position for 'O': \").upper()\n",
        "    else:\n",
        "        mark = 'X'\n",
        "        position = input(\"Player2, enter your position for 'X': \").upper()\n",
        "\n",
        "    if position in board:\n",
        "        r, c = np.where(board == position)\n",
        "        board[r, c] = mark\n",
        "        kb(f\"Occupied({mark}, {position})\")\n",
        "        print(\"Knowledge Base: \", knowledge_base)\n",
        "\n",
        "        #inferring winning/drawing condition\n",
        "        if WinningMove(mark):\n",
        "            print_board()\n",
        "            print(f\"{turn} ({mark}) wins!\")\n",
        "            break  # End the game after someone wins\n",
        "        elif is_board_full():\n",
        "            print_board()\n",
        "            print(\"It's a draw!\")\n",
        "            break\n",
        "\n",
        "        # alternating turns\n",
        "        if turn == \"Player1\":\n",
        "            turn = \"Player2\"\n",
        "        else:\n",
        "            turn = \"Player1\"\n",
        "\n",
        "    else:\n",
        "        print(\"Invalid position. Try again.\")\n",
        "        continue\n",
        "\n",
        "print(\"\\nFinal Knowledge Base:\", knowledge_base)"
      ],
      "metadata": {
        "colab": {
          "base_uri": "https://localhost:8080/"
        },
        "id": "bFL_eqpBAQn5",
        "outputId": "0b859c0d-d3dd-4d95-8012-1882842016b2"
      },
      "execution_count": 7,
      "outputs": [
        {
          "output_type": "stream",
          "name": "stdout",
          "text": [
            "P1|P2|P3\n",
            "P4|P5|P6\n",
            "P7|P8|P9\n",
            "\n",
            "Player1, enter your position for 'O': P1\n",
            "Knowledge Base:  ['Occupied(O, P1)']\n",
            "O|P2|P3\n",
            "P4|P5|P6\n",
            "P7|P8|P9\n",
            "\n",
            "Player2, enter your position for 'X': p2\n",
            "Knowledge Base:  ['Occupied(O, P1)', 'Occupied(X, P2)']\n",
            "O|X|P3\n",
            "P4|P5|P6\n",
            "P7|P8|P9\n",
            "\n",
            "Player1, enter your position for 'O': p5\n",
            "Knowledge Base:  ['Occupied(O, P1)', 'Occupied(X, P2)', 'Occupied(O, P5)']\n",
            "O|X|P3\n",
            "P4|O|P6\n",
            "P7|P8|P9\n",
            "\n",
            "Player2, enter your position for 'X': p6\n",
            "Knowledge Base:  ['Occupied(O, P1)', 'Occupied(X, P2)', 'Occupied(O, P5)', 'Occupied(X, P6)']\n",
            "O|X|P3\n",
            "P4|O|X\n",
            "P7|P8|P9\n",
            "\n",
            "Player1, enter your position for 'O': p9\n",
            "Knowledge Base:  ['Occupied(O, P1)', 'Occupied(X, P2)', 'Occupied(O, P5)', 'Occupied(X, P6)', 'Occupied(O, P9)']\n",
            "O|X|P3\n",
            "P4|O|X\n",
            "P7|P8|O\n",
            "\n",
            "Player1 (O) wins!\n",
            "\n",
            "Final Knowledge Base: ['Occupied(O, P1)', 'Occupied(X, P2)', 'Occupied(O, P5)', 'Occupied(X, P6)', 'Occupied(O, P9)']\n"
          ]
        }
      ]
    }
  ]
}